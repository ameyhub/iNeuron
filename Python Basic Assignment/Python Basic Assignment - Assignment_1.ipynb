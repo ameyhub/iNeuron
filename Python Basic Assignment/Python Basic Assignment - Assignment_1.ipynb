{
 "cells": [
  {
   "cell_type": "markdown",
   "id": "29107960",
   "metadata": {},
   "source": [
    "1. In the below elements which of them are values or an expression? eg:- values can be integer or string and expressions will be mathematical operators."
   ]
  },
  {
   "cell_type": "raw",
   "id": "e85a5d3c",
   "metadata": {},
   "source": [
    "Ans: \n",
    "\n",
    "* = expression\n",
    "\n",
    "'hello' = value\n",
    "\n",
    "-87.8 = value\n",
    "\n",
    "- = expression\n",
    "\n",
    "/ = expression \n",
    "\n",
    "+ = expression\n",
    "\n",
    "6 = value"
   ]
  },
  {
   "cell_type": "markdown",
   "id": "e593e1b8",
   "metadata": {},
   "source": [
    "2. What is the difference between string and variable?"
   ]
  },
  {
   "cell_type": "raw",
   "id": "0274609d",
   "metadata": {},
   "source": [
    "Ans:\n",
    "\n",
    "String: We can write string in quotes \n",
    "for example: \"Amey\",'Amey'\n",
    "\n",
    "Variable: Variable is a thing in which we can store data just like a container\n",
    "for example: a=5, so (a) is storing data that contain (5)"
   ]
  },
  {
   "cell_type": "markdown",
   "id": "fdc8632f",
   "metadata": {},
   "source": [
    "3. Describe three different data types."
   ]
  },
  {
   "cell_type": "raw",
   "id": "9e35d76b",
   "metadata": {},
   "source": [
    "Ans:\n",
    "\n",
    "List : A list is used to store multiple data items in a single variable.\n",
    "    \n",
    "Integer : An integer use to store only numerical values.\n",
    "    \n",
    "Float : A float can store only floating values like: 2.3, 6.88 etc.\n",
    "    "
   ]
  },
  {
   "cell_type": "markdown",
   "id": "37dbb4df",
   "metadata": {},
   "source": [
    "4. What is an expression made up of? What do all expressions do?"
   ]
  },
  {
   "cell_type": "raw",
   "id": "8bb39136",
   "metadata": {},
   "source": [
    "Ans:\n",
    "\n",
    "Expression is a thing that made up of values, various mathematical operations and containers as well.\n",
    "For example: q=1+2, Expression is thing which is used to evaluate the values result on the screen."
   ]
  },
  {
   "cell_type": "markdown",
   "id": "75ad19ea",
   "metadata": {},
   "source": [
    "5. This assignment statements, like spam = 10. What is the difference between an expression and a statement?"
   ]
  },
  {
   "cell_type": "raw",
   "id": "097c290b",
   "metadata": {},
   "source": [
    "Ans:\n",
    "\n",
    "Expression is a thing that made up of values, various mathematical operations and containers as well and the statement is just like a command that a python interpreter executes like print."
   ]
  },
  {
   "cell_type": "markdown",
   "id": "a8cdaaa3",
   "metadata": {},
   "source": [
    "6. After running the following code, what does the variable bacon contain?\n",
    "bacon = 22\n",
    "bacon + 1"
   ]
  },
  {
   "cell_type": "code",
   "execution_count": 7,
   "id": "05257f10",
   "metadata": {},
   "outputs": [],
   "source": [
    "\"\"\"Ans:\"\"\"\n",
    "bacon = 22  "
   ]
  },
  {
   "cell_type": "code",
   "execution_count": 8,
   "id": "30f74b29",
   "metadata": {},
   "outputs": [
    {
     "data": {
      "text/plain": [
       "23"
      ]
     },
     "execution_count": 8,
     "metadata": {},
     "output_type": "execute_result"
    }
   ],
   "source": [
    "bacon +1"
   ]
  },
  {
   "cell_type": "markdown",
   "id": "7ebcf4c0",
   "metadata": {},
   "source": [
    "7. What should the values of the following two terms be?\n",
    "'spam' + 'spamspam'\n",
    "'spam' * 3"
   ]
  },
  {
   "cell_type": "code",
   "execution_count": 9,
   "id": "0712f825",
   "metadata": {},
   "outputs": [
    {
     "data": {
      "text/plain": [
       "'spamspamspam'"
      ]
     },
     "execution_count": 9,
     "metadata": {},
     "output_type": "execute_result"
    }
   ],
   "source": [
    "\"\"\"Ans:\"\"\"\n",
    "'spam' + 'spamspam'"
   ]
  },
  {
   "cell_type": "code",
   "execution_count": 10,
   "id": "d4c85058",
   "metadata": {},
   "outputs": [
    {
     "data": {
      "text/plain": [
       "'spamspamspam'"
      ]
     },
     "execution_count": 10,
     "metadata": {},
     "output_type": "execute_result"
    }
   ],
   "source": [
    "'spam'*3"
   ]
  },
  {
   "cell_type": "markdown",
   "id": "d047fb63",
   "metadata": {},
   "source": [
    "8. Why is eggs a valid variable name while 100 is invalid?"
   ]
  },
  {
   "cell_type": "raw",
   "id": "982132c0",
   "metadata": {},
   "source": [
    "Ans: \n",
    "\n",
    "Beacuse we can't start giving variable an integer name it will give an error. We should begin with, a string like alphabet name then an integer. For Example: iNeuron123 or Amey3334 "
   ]
  },
  {
   "cell_type": "markdown",
   "id": "0b4fd92e",
   "metadata": {},
   "source": [
    "9. What three functions can be used to get the integer, floating-point number, or string version of a value?"
   ]
  },
  {
   "cell_type": "raw",
   "id": "755b087e",
   "metadata": {},
   "source": [
    "Ans:\n",
    "    \n",
    "integer:  int()\n",
    "floating-point number: float()\n",
    "string: str()"
   ]
  },
  {
   "cell_type": "markdown",
   "id": "43d65606",
   "metadata": {},
   "source": [
    "10. Why does this expression cause an error? How can you fix it?\n",
    "'I have eaten ' + 99 + ' burritos.'\n"
   ]
  },
  {
   "cell_type": "raw",
   "id": "69fdaeaa",
   "metadata": {},
   "source": [
    "Ans: \n",
    "\n",
    "An expression cause an error because 99 is an integer it cannot be concatenated with string, if we have to conacatenate it we need to do typecasting in it."
   ]
  },
  {
   "cell_type": "code",
   "execution_count": null,
   "id": "abec7f30",
   "metadata": {},
   "outputs": [],
   "source": []
  }
 ],
 "metadata": {
  "kernelspec": {
   "display_name": "Python 3 (ipykernel)",
   "language": "python",
   "name": "python3"
  },
  "language_info": {
   "codemirror_mode": {
    "name": "ipython",
    "version": 3
   },
   "file_extension": ".py",
   "mimetype": "text/x-python",
   "name": "python",
   "nbconvert_exporter": "python",
   "pygments_lexer": "ipython3",
   "version": "3.9.7"
  }
 },
 "nbformat": 4,
 "nbformat_minor": 5
}
